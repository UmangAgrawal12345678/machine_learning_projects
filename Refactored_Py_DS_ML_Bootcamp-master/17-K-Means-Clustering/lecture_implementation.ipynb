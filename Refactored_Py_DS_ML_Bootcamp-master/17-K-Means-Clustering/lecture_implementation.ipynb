{
 "cells": [
  {
   "cell_type": "code",
   "execution_count": 1,
   "metadata": {},
   "outputs": [],
   "source": [
    "import pandas as pd;\n",
    "import numpy as np;\n",
    "import seaborn as sns;\n",
    "import matplotlib.pyplot as plt;\n",
    "%matplotlib inline"
   ]
  },
  {
   "cell_type": "code",
   "execution_count": 2,
   "metadata": {},
   "outputs": [],
   "source": [
    "from sklearn.datasets import make_blobs;"
   ]
  },
  {
   "cell_type": "code",
   "execution_count": 42,
   "metadata": {},
   "outputs": [],
   "source": [
    "data = make_blobs(n_features=2,n_samples=200,cluster_std=4)"
   ]
  },
  {
   "cell_type": "code",
   "execution_count": 6,
   "metadata": {},
   "outputs": [
    {
     "data": {
      "text/plain": [
       "array([2, 0, 1, 0, 0, 2, 0, 0, 0, 1, 2, 1, 0, 1, 0, 2, 0, 2, 2, 1, 0, 2,\n",
       "       2, 1, 2, 2, 0, 2, 1, 0, 0, 1, 1, 2, 0, 0, 1, 2, 0, 0, 1, 1, 0, 2,\n",
       "       1, 2, 0, 2, 2, 2, 0, 1, 2, 0, 0, 1, 1, 0, 2, 0, 1, 1, 0, 0, 1, 1,\n",
       "       1, 1, 0, 2, 0, 1, 1, 2, 2, 2, 1, 1, 0, 1, 1, 2, 1, 1, 0, 0, 2, 1,\n",
       "       2, 1, 1, 0, 1, 1, 0, 2, 1, 0, 2, 2, 0, 2, 0, 2, 0, 0, 2, 1, 1, 0,\n",
       "       0, 0, 0, 2, 1, 0, 2, 0, 1, 1, 2, 1, 1, 1, 0, 2, 1, 1, 1, 2, 2, 2,\n",
       "       0, 0, 1, 1, 1, 2, 2, 1, 1, 2, 1, 0, 2, 0, 0, 2, 2, 1, 0, 2, 2, 0,\n",
       "       0, 2, 2, 1, 2, 2, 1, 1, 0, 0, 1, 2, 0, 0, 0, 0, 0, 2, 2, 1, 2, 1,\n",
       "       0, 2, 2, 1, 1, 2, 1, 2, 2, 2, 1, 1, 2, 0, 0, 0, 2, 1, 0, 0, 2, 1,\n",
       "       0, 2])"
      ]
     },
     "execution_count": 6,
     "metadata": {},
     "output_type": "execute_result"
    }
   ],
   "source": [
    "data[1]"
   ]
  },
  {
   "cell_type": "code",
   "execution_count": 20,
   "metadata": {},
   "outputs": [
    {
     "data": {
      "text/plain": [
       "(array([[-12.3877419 , -18.87663217],\n",
       "        [  9.55866118,   7.23775485],\n",
       "        [  0.23382517,   3.2927456 ],\n",
       "        [  6.42531947,   0.11965664],\n",
       "        [  7.55238852,   4.71561166],\n",
       "        [ -8.19660035,  -5.23028549],\n",
       "        [  6.18204631,   4.93962948],\n",
       "        [ -2.88597267,   9.0246706 ],\n",
       "        [ -3.15098099,   8.61412273],\n",
       "        [ -1.20039142,   8.00557537],\n",
       "        [ -6.02797822, -12.00683089],\n",
       "        [  7.61851662,  10.09454571],\n",
       "        [ 10.72929444,   6.92940978],\n",
       "        [  1.52379364,  11.76569632],\n",
       "        [ 10.15612463,   4.27415109],\n",
       "        [-15.41832709,  -3.54595293],\n",
       "        [  7.51554276,   3.527934  ],\n",
       "        [ -3.79538994, -10.24666106],\n",
       "        [ -8.37807624,  -3.58022906],\n",
       "        [ -1.9173326 ,   8.75384406],\n",
       "        [ -0.34134236,   5.55253447],\n",
       "        [-11.40535682,  -3.29558486],\n",
       "        [ -4.22389194,  -7.74074214],\n",
       "        [ -3.71618284,  10.75523164],\n",
       "        [ -7.57234527,  -1.16806334],\n",
       "        [ -8.67603101,  -7.90669505],\n",
       "        [  3.01169869,   3.00797528],\n",
       "        [ -5.26685667,  -4.2932241 ],\n",
       "        [  3.66313241,   5.31394669],\n",
       "        [  1.68309928,   7.36520495],\n",
       "        [  5.58939247,   8.43619103],\n",
       "        [  4.19437459,   4.7678455 ],\n",
       "        [  1.79277106,   5.86441767],\n",
       "        [-13.32911547,  -8.82651741],\n",
       "        [  9.33526093,   8.12274335],\n",
       "        [  0.69306749,   3.51192064],\n",
       "        [ 10.51971452,   6.88534769],\n",
       "        [ -4.03727347,  -8.17508647],\n",
       "        [ -0.44555677,   3.93759907],\n",
       "        [  5.610647  ,   2.32034801],\n",
       "        [  4.4892388 ,  10.16045978],\n",
       "        [ 18.78490047,  10.35868211],\n",
       "        [  1.04134127,   7.82873496],\n",
       "        [ -8.83586964,  -3.19663167],\n",
       "        [  5.27932557,   1.9059272 ],\n",
       "        [-17.24441114,  -5.10624214],\n",
       "        [  2.74081125,   3.0753513 ],\n",
       "        [ -5.21828789,  -5.34741225],\n",
       "        [-15.40375062, -11.45834737],\n",
       "        [ -7.6451408 ,  -1.86314862],\n",
       "        [  5.98002893,   2.46775279],\n",
       "        [  5.09902009,  11.93381621],\n",
       "        [ -0.76054679,  -2.6469682 ],\n",
       "        [  2.96068934,   8.36824661],\n",
       "        [  5.6897158 ,   7.47405452],\n",
       "        [  2.72956277,  12.22038065],\n",
       "        [ -2.15547935,  10.38934914],\n",
       "        [ -5.08765886,   8.81315335],\n",
       "        [ -1.56833954,  -8.52149976],\n",
       "        [  4.88129187,   7.16451631],\n",
       "        [  2.9802362 ,  12.44516688],\n",
       "        [  3.98095239,  13.93718174],\n",
       "        [  2.20515483,   3.22727705],\n",
       "        [  1.38153809,  12.07038341],\n",
       "        [  6.10317939,   8.02357792],\n",
       "        [  5.53138472,  11.66852464],\n",
       "        [  7.9180702 ,  16.72834814],\n",
       "        [  8.07572725,  15.05112061],\n",
       "        [  9.28967047,  10.20128387],\n",
       "        [-11.20053841, -12.22861269],\n",
       "        [  7.89675866,   8.100326  ],\n",
       "        [  7.68921121,   5.18517554],\n",
       "        [ -2.03046494,  11.04680453],\n",
       "        [ -1.80186789,  -2.99482688],\n",
       "        [-11.15415047,  -1.9472643 ],\n",
       "        [ -7.04386524,  -2.0484208 ],\n",
       "        [  4.14005263,  10.58308327],\n",
       "        [  1.49526456,  14.64722752],\n",
       "        [  7.80931244,   9.45270645],\n",
       "        [  3.32854632,  -0.19131786],\n",
       "        [  0.51514816,  11.49203321],\n",
       "        [-16.46101693,  -6.96319016],\n",
       "        [ 21.06221643,   8.64718826],\n",
       "        [  1.50023891,  12.98944454],\n",
       "        [  6.26212547,   2.55310067],\n",
       "        [  7.34267312,   5.83936219],\n",
       "        [ -8.23205566, -11.70154749],\n",
       "        [  3.801486  ,  10.42900425],\n",
       "        [ -6.28963072,  -6.76430475],\n",
       "        [  3.43299059,   4.68332935],\n",
       "        [ 10.37800377,  12.09479312],\n",
       "        [  1.13835427,   8.3266543 ],\n",
       "        [ -4.39826207,   5.30791984],\n",
       "        [  4.01840418,   8.81785392],\n",
       "        [  5.25993767,   1.40247575],\n",
       "        [-16.55270711,  -8.54353247],\n",
       "        [  9.85154191,  14.18684686],\n",
       "        [  8.4781506 ,   5.39286415],\n",
       "        [-11.09157916, -10.40410232],\n",
       "        [ -6.41511683,  -7.14441839],\n",
       "        [ -0.5396113 ,   8.65601728],\n",
       "        [ -9.77803507,  -5.89445474],\n",
       "        [  0.86265587,   3.59140251],\n",
       "        [-10.43869876,  -6.47104655],\n",
       "        [  4.37514029,   2.42183554],\n",
       "        [  3.97935805,   5.62103977],\n",
       "        [ -1.50981299, -12.14984143],\n",
       "        [ -1.37267068,  12.09853795],\n",
       "        [  9.8170434 ,   9.23605204],\n",
       "        [  3.73729105,   7.83550641],\n",
       "        [ 12.86865047,   4.8294714 ],\n",
       "        [  4.32142386,  12.61506338],\n",
       "        [  6.47633845,   9.21145349],\n",
       "        [-10.21918865, -12.31418629],\n",
       "        [  4.09844131,  15.3740578 ],\n",
       "        [  2.05729296,  10.37711811],\n",
       "        [-14.2649543 ,  -3.71951859],\n",
       "        [  3.8202056 ,  10.8535154 ],\n",
       "        [ -0.81084638,   9.87344958],\n",
       "        [ 10.07114956,   8.18608866],\n",
       "        [ -9.00279768,  -8.44306847],\n",
       "        [ 10.17637332,   5.71468911],\n",
       "        [  4.95425206,   5.67126547],\n",
       "        [  6.03674311,  14.0943421 ],\n",
       "        [  0.97341746,   2.68304921],\n",
       "        [-10.951149  ,  -9.24952305],\n",
       "        [  6.69876346,   8.11746212],\n",
       "        [  2.65951985,  14.74821924],\n",
       "        [  1.98233378,  13.0541273 ],\n",
       "        [-12.66829805,  -9.39593067],\n",
       "        [-15.43650959,  -9.96663088],\n",
       "        [-10.24220129,  -3.05453516],\n",
       "        [  5.13268388,   6.68018368],\n",
       "        [ -0.74143992,   7.55955226],\n",
       "        [  7.85232827,  12.12355607],\n",
       "        [  2.07198663,   7.38898352],\n",
       "        [  1.8342153 ,   4.81752329],\n",
       "        [ -9.29829374,  -6.94982531],\n",
       "        [-11.91974295,  -9.4343497 ],\n",
       "        [  0.31678248,  17.43525502],\n",
       "        [  7.94337031,   5.82065863],\n",
       "        [ -2.13087833,  -8.60434273],\n",
       "        [  2.61076306,   9.33195517],\n",
       "        [  3.65218173,  -0.17704185],\n",
       "        [-10.30511154,  -7.53711034],\n",
       "        [  9.41274122,  12.4489972 ],\n",
       "        [ -3.17068541,   8.16968609],\n",
       "        [-10.13588871,  -9.39449923],\n",
       "        [-13.52955964,  -0.35749689],\n",
       "        [  4.51490702,  11.82124117],\n",
       "        [  0.69943883,  12.47661279],\n",
       "        [ -8.52892655, -10.01369646],\n",
       "        [ -3.94973707, -13.78513258],\n",
       "        [ -1.63071278,   4.79834392],\n",
       "        [  0.30258021,   1.2664174 ],\n",
       "        [ -6.92601174,  -4.89983068],\n",
       "        [ -9.03364646,  -6.05867499],\n",
       "        [  4.75509477,   9.22944591],\n",
       "        [ -8.52293565,  -4.73119748],\n",
       "        [-10.46470273,  -6.2148575 ],\n",
       "        [  8.02828393,   9.554237  ],\n",
       "        [  9.1353412 ,   9.0555332 ],\n",
       "        [  4.11498505,  -0.06631472],\n",
       "        [  4.62673286,   1.83698971],\n",
       "        [  2.47862624,   2.96670275],\n",
       "        [ -8.78487812,  -5.51765347],\n",
       "        [  2.28529369,   8.58708731],\n",
       "        [  4.57591172,   8.92833158],\n",
       "        [  8.14070496,   7.74710318],\n",
       "        [  2.80879497,   0.11838402],\n",
       "        [  3.08446681,  -0.58657335],\n",
       "        [ -7.14289041,  -8.92766622],\n",
       "        [-11.52038893, -11.87743623],\n",
       "        [  7.26459889,   9.9843006 ],\n",
       "        [ -6.95692546,  -4.45132204],\n",
       "        [ -0.06366995,  10.60881189],\n",
       "        [  5.94380943,  11.01716682],\n",
       "        [ -6.39109295,  -4.41056481],\n",
       "        [-12.21490005,  -9.78906262],\n",
       "        [  1.09629797,   8.37718317],\n",
       "        [  4.58450129,  14.23463845],\n",
       "        [ -6.03827238,  -8.63909849],\n",
       "        [ 11.45481522,   8.34176768],\n",
       "        [ -5.46656782,  -3.39016698],\n",
       "        [-10.84452813,  -5.61997601],\n",
       "        [ -5.83866812, -13.20752256],\n",
       "        [  2.74199275,   6.27890216],\n",
       "        [  5.77924333,   7.40426243],\n",
       "        [-12.92706439,  -3.82383778],\n",
       "        [  3.43436818,   5.3224359 ],\n",
       "        [ 12.21842991,   6.41274179],\n",
       "        [ 11.50883384,   4.39541885],\n",
       "        [ -6.35519951,  -4.899607  ],\n",
       "        [  5.39431663,  -0.44142718],\n",
       "        [  0.82843699,   0.80297112],\n",
       "        [  5.31867806,   2.53880523],\n",
       "        [ -6.06610094,  -6.70159428],\n",
       "        [ -2.62505846,  14.36502946],\n",
       "        [  4.445524  ,   8.25816318],\n",
       "        [ -6.58482527,  -8.53670887]]),\n",
       " array([2, 0, 1, 0, 0, 2, 0, 0, 0, 1, 2, 1, 0, 1, 0, 2, 0, 2, 2, 1, 0, 2,\n",
       "        2, 1, 2, 2, 0, 2, 1, 0, 0, 1, 1, 2, 0, 0, 1, 2, 0, 0, 1, 1, 0, 2,\n",
       "        1, 2, 0, 2, 2, 2, 0, 1, 2, 0, 0, 1, 1, 0, 2, 0, 1, 1, 0, 0, 1, 1,\n",
       "        1, 1, 0, 2, 0, 1, 1, 2, 2, 2, 1, 1, 0, 1, 1, 2, 1, 1, 0, 0, 2, 1,\n",
       "        2, 1, 1, 0, 1, 1, 0, 2, 1, 0, 2, 2, 0, 2, 0, 2, 0, 0, 2, 1, 1, 0,\n",
       "        0, 0, 0, 2, 1, 0, 2, 0, 1, 1, 2, 1, 1, 1, 0, 2, 1, 1, 1, 2, 2, 2,\n",
       "        0, 0, 1, 1, 1, 2, 2, 1, 1, 2, 1, 0, 2, 0, 0, 2, 2, 1, 0, 2, 2, 0,\n",
       "        0, 2, 2, 1, 2, 2, 1, 1, 0, 0, 1, 2, 0, 0, 0, 0, 0, 2, 2, 1, 2, 1,\n",
       "        0, 2, 2, 1, 1, 2, 1, 2, 2, 2, 1, 1, 2, 0, 0, 0, 2, 1, 0, 0, 2, 1,\n",
       "        0, 2]))"
      ]
     },
     "execution_count": 20,
     "metadata": {},
     "output_type": "execute_result"
    }
   ],
   "source": [
    "data "
   ]
  },
  {
   "cell_type": "code",
   "execution_count": 21,
   "metadata": {},
   "outputs": [],
   "source": [
    "from sklearn.cluster import KMeans;"
   ]
  },
  {
   "cell_type": "code",
   "execution_count": 22,
   "metadata": {},
   "outputs": [],
   "source": [
    "kmeans = KMeans(n_clusters=3)"
   ]
  },
  {
   "cell_type": "code",
   "execution_count": 23,
   "metadata": {},
   "outputs": [
    {
     "data": {
      "text/plain": [
       "KMeans(algorithm='auto', copy_x=True, init='k-means++', max_iter=300,\n",
       "       n_clusters=3, n_init=10, n_jobs=None, precompute_distances='auto',\n",
       "       random_state=None, tol=0.0001, verbose=0)"
      ]
     },
     "execution_count": 23,
     "metadata": {},
     "output_type": "execute_result"
    }
   ],
   "source": [
    "kmeans"
   ]
  },
  {
   "cell_type": "code",
   "execution_count": 24,
   "metadata": {},
   "outputs": [
    {
     "data": {
      "text/plain": [
       "KMeans(algorithm='auto', copy_x=True, init='k-means++', max_iter=300,\n",
       "       n_clusters=3, n_init=10, n_jobs=None, precompute_distances='auto',\n",
       "       random_state=None, tol=0.0001, verbose=0)"
      ]
     },
     "execution_count": 24,
     "metadata": {},
     "output_type": "execute_result"
    }
   ],
   "source": [
    "kmeans.fit(data[0],data[1])"
   ]
  },
  {
   "cell_type": "code",
   "execution_count": 25,
   "metadata": {},
   "outputs": [
    {
     "data": {
      "text/plain": [
       "array([[-8.848837  , -7.15462034],\n",
       "       [ 1.99827891, 10.75440351],\n",
       "       [ 6.27821986,  5.20158892]])"
      ]
     },
     "execution_count": 25,
     "metadata": {},
     "output_type": "execute_result"
    }
   ],
   "source": [
    "kmeans.cluster_centers_"
   ]
  },
  {
   "cell_type": "code",
   "execution_count": 62,
   "metadata": {},
   "outputs": [
    {
     "data": {
      "text/plain": [
       "array([0, 2, 2, 2, 2, 0, 2, 1, 1, 1, 0, 2, 2, 1, 2, 0, 2, 0, 0, 1, 1, 0,\n",
       "       0, 1, 0, 0, 2, 0, 2, 1, 2, 2, 2, 0, 2, 2, 2, 0, 2, 2, 1, 2, 1, 0,\n",
       "       2, 0, 2, 0, 0, 0, 2, 1, 0, 1, 2, 1, 1, 1, 0, 2, 1, 1, 2, 1, 2, 1,\n",
       "       1, 1, 2, 0, 2, 2, 1, 0, 0, 0, 1, 1, 2, 2, 1, 0, 2, 1, 2, 2, 0, 1,\n",
       "       0, 2, 2, 1, 1, 1, 2, 0, 1, 2, 0, 0, 1, 0, 2, 0, 2, 2, 0, 1, 2, 1,\n",
       "       2, 1, 2, 0, 1, 1, 0, 1, 1, 2, 0, 2, 2, 1, 2, 0, 2, 1, 1, 0, 0, 0,\n",
       "       2, 1, 1, 1, 2, 0, 0, 1, 2, 0, 1, 2, 0, 1, 1, 0, 0, 1, 1, 0, 0, 1,\n",
       "       2, 0, 0, 1, 0, 0, 2, 2, 2, 2, 2, 0, 1, 1, 2, 2, 2, 0, 0, 2, 0, 1,\n",
       "       1, 0, 0, 1, 1, 0, 2, 0, 0, 0, 2, 2, 0, 2, 2, 2, 0, 2, 2, 2, 0, 1,\n",
       "       1, 0], dtype=int32)"
      ]
     },
     "execution_count": 62,
     "metadata": {},
     "output_type": "execute_result"
    }
   ],
   "source": [
    "kmeans.labels_"
   ]
  },
  {
   "cell_type": "code",
   "execution_count": 43,
   "metadata": {},
   "outputs": [],
   "source": [
    "pred = kmeans.predict(data[0])"
   ]
  },
  {
   "cell_type": "code",
   "execution_count": 45,
   "metadata": {},
   "outputs": [
    {
     "data": {
      "text/plain": [
       "array([2, 2, 0, 1, 2, 2, 2, 1, 0, 2, 2, 2, 0, 2, 2, 2, 0, 0, 2, 2, 2, 2,\n",
       "       2, 0, 2, 0, 2, 2, 2, 0, 2, 2, 0, 2, 2, 2, 2, 0, 2, 2, 2, 2, 0, 2,\n",
       "       0, 2, 2, 0, 0, 0, 2, 2, 2, 2, 2, 2, 2, 1, 2, 2, 0, 1, 2, 0, 2, 2,\n",
       "       0, 2, 2, 0, 2, 0, 0, 0, 0, 2, 2, 2, 1, 0, 2, 2, 2, 2, 0, 0, 1, 2,\n",
       "       2, 0, 2, 2, 0, 0, 2, 2, 2, 2, 2, 2, 0, 0, 2, 1, 0, 0, 0, 2, 0, 2,\n",
       "       1, 1, 2, 0, 2, 2, 0, 2, 2, 2, 2, 2, 0, 0, 0, 2, 2, 2, 2, 2, 2, 2,\n",
       "       2, 2, 0, 0, 2, 2, 2, 2, 2, 2, 0, 0, 2, 2, 2, 2, 2, 2, 2, 2, 2, 2,\n",
       "       0, 2, 1, 0, 2, 0, 1, 2, 1, 0, 2, 2, 2, 0, 1, 0, 2, 2, 0, 0, 0, 2,\n",
       "       0, 0, 0, 1, 2, 2, 2, 2, 0, 2, 1, 2, 2, 2, 0, 2, 0, 2, 0, 2, 2, 2,\n",
       "       2, 0], dtype=int32)"
      ]
     },
     "execution_count": 45,
     "metadata": {},
     "output_type": "execute_result"
    }
   ],
   "source": [
    "pred"
   ]
  },
  {
   "cell_type": "code",
   "execution_count": 63,
   "metadata": {},
   "outputs": [
    {
     "data": {
      "text/plain": [
       "<matplotlib.collections.PathCollection at 0x7f1a7f255b50>"
      ]
     },
     "execution_count": 63,
     "metadata": {},
     "output_type": "execute_result"
    },
    {
     "data": {
      "image/png": "[encoded data removed]",
      "text/plain": [
       "<Figure size 432x288 with 2 Axes>"
      ]
     },
     "metadata": {
      "needs_background": "light"
     },
     "output_type": "display_data"
    }
   ],
   "source": [
    "fig,(ax1,ax2) = plt.subplots(1,2)\n",
    "ax1.scatter(data[0][:,0],data[0][:,1],c=data[1])\n",
    "ax2.scatter(data[0][:,0],data[0][:,1],c=kmeans.labels_)"
   ]
  },
  {
   "cell_type": "code",
   "execution_count": 57,
   "metadata": {},
   "outputs": [
    {
     "data": {
      "text/plain": [
       "array([ -4.37527452,   0.90607586,   2.89213647,   6.79518932,\n",
       "        -2.17389053,  -0.20492378,  -5.74185962,   8.1589262 ,\n",
       "         1.04109797,  -5.44828457,  -3.81834401,  -8.95376502,\n",
       "        -8.16754261,  -5.06256827,  -1.78854289,   2.39672923,\n",
       "         3.19439332,   2.81877872,  -1.52577046,   0.67584069,\n",
       "        -3.86937071,   1.03834378,  -0.12061714,  -7.38606967,\n",
       "         1.33825992,  -3.64258084,   4.06881164,   1.48853602,\n",
       "         5.6442465 ,   2.87142183,  -3.94971824,   1.67925617,\n",
       "         6.40716212,  -4.23665846,   1.51637753,  -1.06773669,\n",
       "        -5.20685432,   0.59238759,   4.13374806,  -2.94265552,\n",
       "         2.7551182 ,   1.10989279,   1.52119645,  -1.35499851,\n",
       "        -3.13946097,   1.4763382 ,  -0.23905671,   4.19869251,\n",
       "         0.70323268,   3.31569626,  -4.54301017,   3.65708731,\n",
       "        -0.46259492,  -0.68753703,   1.73864322,  -4.50358725,\n",
       "         3.14185307,   6.43461027,  -4.91039876,   3.24480581,\n",
       "        -7.02441868,   4.38239169,  -5.79278426,  -5.40501236,\n",
       "        -0.45041764,  -3.79638105,   2.70112929,   7.09770451,\n",
       "        -1.97351404,   5.16290882,  -8.81653475,  -8.86764588,\n",
       "         3.14337368,  -4.9375451 ,  -8.04644116,  -7.18899259,\n",
       "         3.35279657,   0.33559231,   7.83798475,   1.76662155,\n",
       "         0.54174719,  -3.28443798,  -5.46752809, -10.18552222,\n",
       "         1.55048972,   2.06866853,   4.7304615 ,  -0.30088698,\n",
       "         7.5019654 ,  -2.95172541, -10.30152574,  -2.15991041,\n",
       "         1.39621446,   3.48849248,  -2.84754526,  -6.35705429,\n",
       "        -0.05560347,  -5.68099023,  -1.64109581,  -7.71084461,\n",
       "        -4.70299636,  -0.42206501,   1.98699927,   8.72198154,\n",
       "       -11.9797013 ,   3.68228214,   0.07607783,  -4.83257563,\n",
       "        -1.98638441,  -4.55963673,  11.99688097,   3.72484485,\n",
       "         0.48508014,  -3.17603946,  -3.59927886,  -3.60003427,\n",
       "         2.66312812,  -2.50019786,  -4.73942287,   8.60076891,\n",
       "        -4.43627794,   6.489386  ,   3.97226099,  -8.59811741,\n",
       "         0.66508358,   4.4085511 ,   0.23348169,   5.56510041,\n",
       "         1.11206599,  -6.83323958,   1.49738424,  -0.87814099,\n",
       "        -5.09070645,  -6.06773808,   0.98106352,   1.69873894,\n",
       "        -6.98179537,  -5.39639178,  -2.90315268,  -2.12988569,\n",
       "        -3.6836916 ,  -7.43978745,   3.31178173,   0.32477579,\n",
       "        -5.54324333,  -0.78475714,  -4.92722065,   0.43772048,\n",
       "        -1.32742567,  -0.55479793,  -3.40962071,  -2.34106481,\n",
       "        -0.82102725,   1.14687877,   2.67625467,  -5.22539958,\n",
       "         6.93218364, -11.91651097,  -0.34383241,   3.8473665 ,\n",
       "         7.15722873,   2.90079287,   5.16435566,   4.93391653,\n",
       "         1.25676133,  -6.03185359,   1.19231705,  -6.92580274,\n",
       "         5.9535805 ,  -1.92937366,  -0.65336153,  -0.6780345 ,\n",
       "       -10.44141313,  -1.49772513,  -1.90699732,  -5.49893203,\n",
       "         3.6261716 ,  -2.73109787,  -4.37148742,   6.92434576,\n",
       "        -1.04011919,  -0.29499622,  -6.26884853,  -4.13314287,\n",
       "        -2.04981865,  -3.58366564,   2.11207722,  -6.02974854,\n",
       "         2.26648143,  -8.282911  ,  -5.05727529,  -8.61010142,\n",
       "         0.07091434,  -5.23625696,  -2.95882975,  -3.66511863,\n",
       "        -6.89346119,   4.00624889,  -3.69583182,   0.80285292])"
      ]
     },
     "execution_count": 57,
     "metadata": {},
     "output_type": "execute_result"
    }
   ],
   "source": [
    "data[0][:,0]\n",
    "data[0][:,1]"
   ]
  },
  {
   "cell_type": "code",
   "execution_count": null,
   "metadata": {},
   "outputs": [],
   "source": []
  }
 ],
 "metadata": {
  "kernelspec": {
   "display_name": "Python 3",
   "language": "python",
   "name": "python3"
  },
  "language_info": {
   "codemirror_mode": {
    "name": "ipython",
    "version": 3
   },
   "file_extension": ".py",
   "mimetype": "text/x-python",
   "name": "python",
   "nbconvert_exporter": "python",
   "pygments_lexer": "ipython3",
   "version": "3.7.4"
  }
 },
 "nbformat": 4,
 "nbformat_minor": 2
}
